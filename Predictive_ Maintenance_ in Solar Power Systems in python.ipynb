{
 "cells": [
  {
   "cell_type": "code",
   "execution_count": null,
   "id": "2d94bf53",
   "metadata": {
    "vscode": {
     "languageId": "plaintext"
    }
   },
   "outputs": [],
   "source": [
    "# Importing required libraries\n",
    "import pandas as pd\n",
    "import numpy as np\n",
    "import matplotlib.pyplot as plt\n",
    "import seaborn as sns\n",
    "\n",
    "from sklearn.model_selection import train_test_split\n",
    "from sklearn.ensemble import RandomForestClassifier\n",
    "from sklearn.metrics import classification_report, confusion_matrix, accuracy_score\n",
    "\n",
    "# Load the dataset\n",
    "# Replace with your actual file path\n",
    "data = pd.read_csv(\"solar_sensor_data.csv\")\n",
    "\n",
    "# Display basic information\n",
    "print(\"Dataset Head:\")\n",
    "print(data.head())\n",
    "print(\"\\nMissing Values:\")\n",
    "print(data.isnull().sum())\n",
    "\n",
    "# Fill or drop missing values\n",
    "data.fillna(method='ffill', inplace=True)\n",
    "\n",
    "# Feature correlation heatmap\n",
    "plt.figure(figsize=(8, 6))\n",
    "sns.heatmap(data.corr(), annot=True, cmap=\"YlGnBu\")\n",
    "plt.title(\"Feature Correlation\")\n",
    "plt.show()\n",
    "\n",
    "# Define Features and Target\n",
    "X = data[['temperature', 'voltage', 'current', 'maintenance_flag']]\n",
    "y = data['failure']\n",
    "\n",
    "# Train-Test Split\n",
    "X_train, X_test, y_train, y_test = train_test_split(X, y, test_size=0.2, random_state=42)\n",
    "\n",
    "# Random Forest Classifier\n",
    "model = RandomForestClassifier(n_estimators=100, random_state=42)\n",
    "model.fit(X_train, y_train)\n",
    "\n",
    "# Predictions\n",
    "y_pred = model.predict(X_test)\n",
    "\n",
    "# Evaluation\n",
    "print(\"\\nClassification Report:\")\n",
    "print(classification_report(y_test, y_pred))\n",
    "print(\"\\nConfusion Matrix:\")\n",
    "print(confusion_matrix(y_test, y_pred))\n",
    "print(\"\\nAccuracy Score:\", accuracy_score(y_test, y_pred))\n",
    "\n",
    "# Feature importance\n",
    "importances = model.feature_importances_\n",
    "features = X.columns\n",
    "plt.figure(figsize=(6, 4))\n",
    "sns.barplot(x=importances, y=features)\n",
    "plt.title(\"Feature Importance\")\n",
    "plt.show()\n"
   ]
  }
 ],
 "metadata": {
  "language_info": {
   "name": "python"
  }
 },
 "nbformat": 4,
 "nbformat_minor": 5
}
